{
 "cells": [
  {
   "cell_type": "code",
   "execution_count": 1,
   "id": "486c80aa-5f2e-4524-929c-549953862099",
   "metadata": {
    "tags": []
   },
   "outputs": [],
   "source": [
    "import sys\n",
    "# Define the path of the text file where you want to save the print output\n",
    "log_file_path = './UNA_output.txt'\n",
    "# Redirect stdout to the log file\n",
    "sys.stdout = open(log_file_path, 'w')"
   ]
  },
  {
   "cell_type": "code",
   "execution_count": 2,
   "id": "35b6d04d-607f-4e2a-b4b8-14adc22d8585",
   "metadata": {
    "tags": []
   },
   "outputs": [],
   "source": [
    "import os\n",
    "#os.environ[\"CUDA_VISIBLE_DEVICES\"] = \"0,1,2,3,4,5,6,7\" # Do not use if you need multi gpu training\n",
    "os.environ['TRANSFORMERS_CACHE'] = \"cache\"\n",
    "os.environ['HF_DATASETS_CACHE'] = \"cache\"\n",
    "os.environ['HF_HOME'] = 'cache'\n",
    "os.environ[\"WANDB_MODE\"] = \"dryrun\""
   ]
  },
  {
   "cell_type": "code",
   "execution_count": null,
   "id": "19d1a4af-5d07-4578-a0c3-7040f69ca568",
   "metadata": {
    "tags": []
   },
   "outputs": [],
   "source": [
    "!huggingface-cli login --token **********************************\n",
    "# Use your own huggingface token"
   ]
  },
  {
   "cell_type": "code",
   "execution_count": 4,
   "id": "c8efda27-4bf2-4bee-8525-aa2d2bae3929",
   "metadata": {
    "tags": []
   },
   "outputs": [],
   "source": [
    "# !pip install -U packaging\n",
    "# !pip install -U setuptools\n",
    "# !pip install huggingface-cli\n",
    "# !pip install transformers==4.46.3\n",
    "# !pip install tensorboardX\n",
    "# !pip install datasets==3.1.0\n",
    "# !pip install einops\n",
    "# !pip install transformers_stream_generator\n",
    "# !pip install deepspeed==0.15.4\n",
    "# !pip install flash-attn\n",
    "# !pip install peft==0.13.2\n",
    "# !pip install tiktoken\n",
    "# !pip install bitsandbytes==0.44.1\n",
    "# !pip install fairscale\n",
    "# !pip install sentencepiece\n",
    "# !pip install galore-torch\n",
    "# !pip install git+https://github.com/huggingface/trl.git\n",
    "# !pip install accelerate==0.34.2\n",
    "# !pip install wandb"
   ]
  },
  {
   "cell_type": "code",
   "execution_count": null,
   "id": "fc3307b0-720e-4918-b4fd-0edbe0ba556d",
   "metadata": {},
   "outputs": [],
   "source": [
    "import time\n",
    "\n",
    "start_time = time.time()\n",
    "\n",
    "!ACCELERATE_LOG_LEVEL=info accelerate launch --config_file deepspeed_zero2.yaml \\\n",
    "    una_peft.py \\\n",
    "    --dataset_name nvidia/HelpSteer2 \\\n",
    "    --dataset_test_split validation \\\n",
    "    --output_dir models/una_3e-6_3 \\\n",
    "    --learning_rate 3e-6 \\\n",
    "    --per_device_train_batch_size 1 \\\n",
    "    --gradient_accumulation_steps 8 \\\n",
    "    --total_episodes 20000 \\\n",
    "    --model_name_or_path mistralai/Mistral-7B-Instruct-v0.1 \\\n",
    "    --sft_model_path mistralai/Mistral-7B-Instruct-v0.1 \\\n",
    "    --reward_model_path Ray2333/GRM-Llama3.2-3B-rewardmodel-ft \\\n",
    "    --local_rollout_forward_batch_size 16 \\\n",
    "    --missing_eos_penalty 1.0 \\\n",
    "    --stop_token eos \\\n",
    "    --eval_strategy steps \\\n",
    "    --eval_steps 1000 \\\n",
    "    --response_length 1024 \\\n",
    "    --use_peft True \\\n",
    "    --kl_coef 3 \\\n",
    "\n",
    "end_time = time.time()\n",
    "elapsed_time = end_time - start_time\n",
    "print(f\"Elapsed time: {elapsed_time} seconds\")"
   ]
  },
  {
   "cell_type": "code",
   "execution_count": null,
   "id": "06a2d611-a103-4361-8006-1ee0c1bd8d64",
   "metadata": {},
   "outputs": [],
   "source": [
    "import time\n",
    "\n",
    "start_time = time.time()\n",
    "\n",
    "!ACCELERATE_LOG_LEVEL=info accelerate launch --config_file deepspeed_zero2.yaml \\\n",
    "    una_peft.py \\\n",
    "    --dataset_name nvidia/HelpSteer2 \\\n",
    "    --dataset_test_split validation \\\n",
    "    --output_dir models/una_3e-6_1 \\\n",
    "    --learning_rate 3e-6 \\\n",
    "    --per_device_train_batch_size 1 \\\n",
    "    --gradient_accumulation_steps 8 \\\n",
    "    --total_episodes 20000 \\\n",
    "    --model_name_or_path mistralai/Mistral-7B-Instruct-v0.1 \\\n",
    "    --sft_model_path mistralai/Mistral-7B-Instruct-v0.1 \\\n",
    "    --reward_model_path Ray2333/GRM-Llama3.2-3B-rewardmodel-ft \\\n",
    "    --local_rollout_forward_batch_size 16 \\\n",
    "    --missing_eos_penalty 1.0 \\\n",
    "    --stop_token eos \\\n",
    "    --eval_strategy steps \\\n",
    "    --eval_steps 1000 \\\n",
    "    --response_length 1024 \\\n",
    "    --use_peft True \\\n",
    "    --kl_coef 1 \\\n",
    "\n",
    "end_time = time.time()\n",
    "elapsed_time = end_time - start_time\n",
    "print(f\"Elapsed time: {elapsed_time} seconds\")"
   ]
  },
  {
   "cell_type": "code",
   "execution_count": null,
   "id": "0ed1762e-87e2-4149-8a47-0d71a0a8b317",
   "metadata": {
    "tags": []
   },
   "outputs": [],
   "source": [
    "import time\n",
    "\n",
    "start_time = time.time()\n",
    "\n",
    "!ACCELERATE_LOG_LEVEL=info accelerate launch --config_file deepspeed_zero2.yaml \\\n",
    "    una_peft.py \\\n",
    "    --dataset_name nvidia/HelpSteer2 \\\n",
    "    --dataset_test_split validation \\\n",
    "    --output_dir models/una_3e-6_0.3 \\\n",
    "    --learning_rate 3e-6 \\\n",
    "    --per_device_train_batch_size 1 \\\n",
    "    --gradient_accumulation_steps 8 \\\n",
    "    --total_episodes 20000 \\\n",
    "    --model_name_or_path mistralai/Mistral-7B-Instruct-v0.1 \\\n",
    "    --sft_model_path mistralai/Mistral-7B-Instruct-v0.1 \\\n",
    "    --reward_model_path Ray2333/GRM-Llama3.2-3B-rewardmodel-ft \\\n",
    "    --local_rollout_forward_batch_size 16 \\\n",
    "    --missing_eos_penalty 1.0 \\\n",
    "    --stop_token eos \\\n",
    "    --eval_strategy steps \\\n",
    "    --eval_steps 1000 \\\n",
    "    --response_length 1024 \\\n",
    "    --use_peft True \\\n",
    "    --kl_coef 0.3 \\\n",
    "\n",
    "end_time = time.time()\n",
    "elapsed_time = end_time - start_time\n",
    "print(f\"Elapsed time: {elapsed_time} seconds\")"
   ]
  }
 ],
 "metadata": {
  "kernelspec": {
   "display_name": "conda_pytorch_p310",
   "language": "python",
   "name": "conda_pytorch_p310"
  },
  "language_info": {
   "codemirror_mode": {
    "name": "ipython",
    "version": 3
   },
   "file_extension": ".py",
   "mimetype": "text/x-python",
   "name": "python",
   "nbconvert_exporter": "python",
   "pygments_lexer": "ipython3",
   "version": "3.10.14"
  }
 },
 "nbformat": 4,
 "nbformat_minor": 5
}
