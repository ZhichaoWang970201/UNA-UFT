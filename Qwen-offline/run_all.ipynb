{
 "cells": [
  {
   "cell_type": "code",
   "execution_count": null,
   "id": "c4ce3f4e-12e2-4590-b374-23b610a91190",
   "metadata": {
    "tags": []
   },
   "outputs": [],
   "source": [
    "!conda create -n pytorch_25 -y \n",
    "!conda activate pytorch_25 \n",
    "!pip install torch==2.5.1 torchvision==0.20.1 torchaudio==2.5.1 --index-url https://download.pytorch.org/whl/cu121 \n",
    "!conda install conda-forge::gcc -y \n",
    "# !pip install ninja pip install vllm\n",
    "\n",
    "!pip install -U packaging\n",
    "!pip install -U setuptools\n",
    "\n",
    "!pip install transformers==4.45.1\n",
    "!pip install tensorboardX\n",
    "!pip install datasets\n",
    "!pip install einops\n",
    "!pip install transformers_stream_generator\n",
    "!pip install deepspeed==0.15.4\n",
    "!pip install -U peft\n",
    "!pip install tiktoken\n",
    "!pip install bitsandbytes\n",
    "!pip install fairscale\n",
    "!pip install sentencepiece\n",
    "!pip install galore-torch\n",
    "!pip install -U accelerate\n",
    "\n",
    "!pip install -U ultralytics\n",
    "!pip install -U trl==0.8.6\n",
    "#!pip install -U trl==0.10.1\n",
    "!pip install -U huggingface_hub\n"
   ]
  },
  {
   "cell_type": "code",
   "execution_count": null,
   "id": "91cb1b02",
   "metadata": {},
   "outputs": [],
   "source": [
    "import os\n",
    "os.environ['TRANSFORMERS_CACHE'] = \"cache\"\n",
    "os.environ['HF_DATASETS_CACHE'] = \"cache\"\n",
    "os.environ['HF_HOME'] = 'cache'"
   ]
  },
  {
   "cell_type": "code",
   "execution_count": 2,
   "id": "48c0d6d6-288f-4bd9-b800-4e893a79eb60",
   "metadata": {
    "tags": []
   },
   "outputs": [
    {
     "name": "stdout",
     "output_type": "stream",
     "text": [
      "The token has not been saved to the git credentials helper. Pass `add_to_git_credential=True` in this function directly or `--add-to-git-credential` if using via `huggingface-cli` if you want to set the git credential as well.\n",
      "Token is valid (permission: read).\n",
      "Your token has been saved to cache/token\n",
      "Login successful\n"
     ]
    }
   ],
   "source": [
    "!huggingface-cli login --token *************************************"
   ]
  },
  {
   "cell_type": "code",
   "execution_count": 4,
   "id": "2e936e1e-c164-467d-94ee-769b7c2c974a",
   "metadata": {
    "tags": []
   },
   "outputs": [],
   "source": [
    "import sys\n",
    "# Define the path of the text file where you want to save the print output\n",
    "log_file_path = './output.txt'\n",
    "# Redirect stdout to the log file\n",
    "sys.stdout = open(log_file_path, 'w')"
   ]
  },
  {
   "cell_type": "code",
   "execution_count": 9,
   "id": "bfb0e3f1-a765-4b7d-a9db-836630ddb610",
   "metadata": {
    "tags": []
   },
   "outputs": [],
   "source": [
    "#UNA binary MSE\n",
    "print(\"UNA binary MSE\")"
   ]
  },
  {
   "cell_type": "code",
   "execution_count": 10,
   "id": "962c6544-bb11-436b-8e94-ad153dbffc52",
   "metadata": {
    "tags": []
   },
   "outputs": [],
   "source": [
    "!ACCELERATE_LOG_LEVEL=info accelerate launch --config_file=multi_gpu.yaml UNA_trainer_binary_MSE_0.01.py"
   ]
  },
  {
   "cell_type": "code",
   "execution_count": 11,
   "id": "67d745bf-f799-46b5-bffd-7ac7bc839b20",
   "metadata": {
    "tags": []
   },
   "outputs": [],
   "source": [
    "#UNA binary BCE\n",
    "print(\"UNA binary BCE\")"
   ]
  },
  {
   "cell_type": "code",
   "execution_count": null,
   "id": "ea6cff85-7a33-4740-ac40-ebd8d928a8f3",
   "metadata": {
    "tags": []
   },
   "outputs": [],
   "source": [
    "!ACCELERATE_LOG_LEVEL=info accelerate launch --config_file=multi_gpu.yaml UNA_trainer_binary_BCE_0.01.py"
   ]
  },
  {
   "cell_type": "code",
   "execution_count": null,
   "id": "38dbfe2c-9847-4e09-86e4-efaf6b402f15",
   "metadata": {
    "tags": []
   },
   "outputs": [],
   "source": [
    "#UNA score\n",
    "print(\"UNA score MSE\")"
   ]
  },
  {
   "cell_type": "code",
   "execution_count": null,
   "id": "31388ac7-a934-4d98-954f-81bb51149001",
   "metadata": {
    "tags": []
   },
   "outputs": [],
   "source": [
    "!ACCELERATE_LOG_LEVEL=info accelerate launch --config_file=multi_gpu.yaml UNA_trainer_score_MSE_3e-5_0.03.py"
   ]
  },
  {
   "cell_type": "code",
   "execution_count": null,
   "id": "1fce3ee0-8596-4f9e-a8dc-b066d0c252fd",
   "metadata": {},
   "outputs": [],
   "source": [
    "#DPO score\n",
    "print(\"DPO\")"
   ]
  },
  {
   "cell_type": "code",
   "execution_count": null,
   "id": "614cc0ce",
   "metadata": {},
   "outputs": [],
   "source": [
    "!ACCELERATE_LOG_LEVEL=info accelerate launch --config_file=multi_gpu.yaml dpo_trainer_0.03.py"
   ]
  },
  {
   "cell_type": "code",
   "execution_count": null,
   "id": "1574e1de",
   "metadata": {},
   "outputs": [],
   "source": []
  },
  {
   "cell_type": "code",
   "execution_count": null,
   "id": "4a2ee42d",
   "metadata": {},
   "outputs": [],
   "source": [
    "!pip install trl==0.10.1"
   ]
  },
  {
   "cell_type": "code",
   "execution_count": null,
   "id": "3053519c",
   "metadata": {},
   "outputs": [],
   "source": [
    "#KTO score\n",
    "print(\"KTO\")"
   ]
  },
  {
   "cell_type": "code",
   "execution_count": null,
   "id": "cd9e00ca",
   "metadata": {},
   "outputs": [],
   "source": [
    "!ACCELERATE_LOG_LEVEL=info accelerate launch --config_file=multi_gpu.yaml kto_trainer_0.03.py"
   ]
  }
 ],
 "metadata": {
  "kernelspec": {
   "display_name": "conda_pytorch_p310",
   "language": "python",
   "name": "conda_pytorch_p310"
  },
  "language_info": {
   "codemirror_mode": {
    "name": "ipython",
    "version": 3
   },
   "file_extension": ".py",
   "mimetype": "text/x-python",
   "name": "python",
   "nbconvert_exporter": "python",
   "pygments_lexer": "ipython3",
   "version": "3.10.14"
  }
 },
 "nbformat": 4,
 "nbformat_minor": 5
}
