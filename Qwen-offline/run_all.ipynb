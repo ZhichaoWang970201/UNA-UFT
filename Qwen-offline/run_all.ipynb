{
 "cells": [
  {
   "cell_type": "code",
   "execution_count": null,
   "id": "c4ce3f4e-12e2-4590-b374-23b610a91190",
   "metadata": {
    "tags": []
   },
   "outputs": [
    {
     "name": "stdout",
     "output_type": "stream",
     "text": [
      "Requirement already satisfied: transformers==4.45.1 in /home/ec2-user/anaconda3/envs/pytorch_p310/lib/python3.10/site-packages (4.45.1)\n",
      "Requirement already satisfied: filelock in /home/ec2-user/anaconda3/envs/pytorch_p310/lib/python3.10/site-packages (from transformers==4.45.1) (3.16.1)\n",
      "Requirement already satisfied: huggingface-hub<1.0,>=0.23.2 in /home/ec2-user/anaconda3/envs/pytorch_p310/lib/python3.10/site-packages (from transformers==4.45.1) (0.30.2)\n",
      "Requirement already satisfied: numpy>=1.17 in /home/ec2-user/anaconda3/envs/pytorch_p310/lib/python3.10/site-packages (from transformers==4.45.1) (1.26.4)\n",
      "Requirement already satisfied: packaging>=20.0 in /home/ec2-user/anaconda3/envs/pytorch_p310/lib/python3.10/site-packages (from transformers==4.45.1) (25.0)\n",
      "Requirement already satisfied: pyyaml>=5.1 in /home/ec2-user/anaconda3/envs/pytorch_p310/lib/python3.10/site-packages (from transformers==4.45.1) (6.0.2)\n",
      "Requirement already satisfied: regex!=2019.12.17 in /home/ec2-user/anaconda3/envs/pytorch_p310/lib/python3.10/site-packages (from transformers==4.45.1) (2024.11.6)\n",
      "Requirement already satisfied: requests in /home/ec2-user/anaconda3/envs/pytorch_p310/lib/python3.10/site-packages (from transformers==4.45.1) (2.32.3)\n",
      "Requirement already satisfied: safetensors>=0.4.1 in /home/ec2-user/anaconda3/envs/pytorch_p310/lib/python3.10/site-packages (from transformers==4.45.1) (0.5.3)\n",
      "Requirement already satisfied: tokenizers<0.21,>=0.20 in /home/ec2-user/anaconda3/envs/pytorch_p310/lib/python3.10/site-packages (from transformers==4.45.1) (0.20.3)\n",
      "Requirement already satisfied: tqdm>=4.27 in /home/ec2-user/anaconda3/envs/pytorch_p310/lib/python3.10/site-packages (from transformers==4.45.1) (4.67.1)\n",
      "Requirement already satisfied: fsspec>=2023.5.0 in /home/ec2-user/anaconda3/envs/pytorch_p310/lib/python3.10/site-packages (from huggingface-hub<1.0,>=0.23.2->transformers==4.45.1) (2025.3.0)\n",
      "Requirement already satisfied: typing-extensions>=3.7.4.3 in /home/ec2-user/anaconda3/envs/pytorch_p310/lib/python3.10/site-packages (from huggingface-hub<1.0,>=0.23.2->transformers==4.45.1) (4.13.2)\n",
      "Requirement already satisfied: charset_normalizer<4,>=2 in /home/ec2-user/anaconda3/envs/pytorch_p310/lib/python3.10/site-packages (from requests->transformers==4.45.1) (3.4.1)\n",
      "Requirement already satisfied: idna<4,>=2.5 in /home/ec2-user/anaconda3/envs/pytorch_p310/lib/python3.10/site-packages (from requests->transformers==4.45.1) (3.10)\n",
      "Requirement already satisfied: urllib3<3,>=1.21.1 in /home/ec2-user/anaconda3/envs/pytorch_p310/lib/python3.10/site-packages (from requests->transformers==4.45.1) (2.4.0)\n",
      "Requirement already satisfied: certifi>=2017.4.17 in /home/ec2-user/anaconda3/envs/pytorch_p310/lib/python3.10/site-packages (from requests->transformers==4.45.1) (2025.1.31)\n",
      "Collecting trl==0.8.6\n",
      "  Using cached trl-0.8.6-py3-none-any.whl.metadata (11 kB)\n",
      "Requirement already satisfied: torch>=1.4.0 in /home/ec2-user/anaconda3/envs/pytorch_p310/lib/python3.10/site-packages (from trl==0.8.6) (2.2.2)\n",
      "Requirement already satisfied: transformers>=4.31.0 in /home/ec2-user/anaconda3/envs/pytorch_p310/lib/python3.10/site-packages (from trl==0.8.6) (4.45.1)\n",
      "Requirement already satisfied: numpy>=1.18.2 in /home/ec2-user/anaconda3/envs/pytorch_p310/lib/python3.10/site-packages (from trl==0.8.6) (1.26.4)\n",
      "Requirement already satisfied: accelerate in /home/ec2-user/anaconda3/envs/pytorch_p310/lib/python3.10/site-packages (from trl==0.8.6) (1.6.0)\n",
      "Requirement already satisfied: datasets in /home/ec2-user/anaconda3/envs/pytorch_p310/lib/python3.10/site-packages (from trl==0.8.6) (3.5.1)\n",
      "Requirement already satisfied: tyro>=0.5.11 in /home/ec2-user/anaconda3/envs/pytorch_p310/lib/python3.10/site-packages (from trl==0.8.6) (0.9.19)\n",
      "Requirement already satisfied: filelock in /home/ec2-user/anaconda3/envs/pytorch_p310/lib/python3.10/site-packages (from torch>=1.4.0->trl==0.8.6) (3.16.1)\n",
      "Requirement already satisfied: typing-extensions>=4.8.0 in /home/ec2-user/anaconda3/envs/pytorch_p310/lib/python3.10/site-packages (from torch>=1.4.0->trl==0.8.6) (4.13.2)\n",
      "Requirement already satisfied: sympy in /home/ec2-user/anaconda3/envs/pytorch_p310/lib/python3.10/site-packages (from torch>=1.4.0->trl==0.8.6) (1.13.3)\n",
      "Requirement already satisfied: networkx in /home/ec2-user/anaconda3/envs/pytorch_p310/lib/python3.10/site-packages (from torch>=1.4.0->trl==0.8.6) (3.4.2)\n",
      "Requirement already satisfied: jinja2 in /home/ec2-user/anaconda3/envs/pytorch_p310/lib/python3.10/site-packages (from torch>=1.4.0->trl==0.8.6) (3.1.6)\n",
      "Requirement already satisfied: fsspec in /home/ec2-user/anaconda3/envs/pytorch_p310/lib/python3.10/site-packages (from torch>=1.4.0->trl==0.8.6) (2025.3.0)\n",
      "Requirement already satisfied: huggingface-hub<1.0,>=0.23.2 in /home/ec2-user/anaconda3/envs/pytorch_p310/lib/python3.10/site-packages (from transformers>=4.31.0->trl==0.8.6) (0.30.2)\n",
      "Requirement already satisfied: packaging>=20.0 in /home/ec2-user/anaconda3/envs/pytorch_p310/lib/python3.10/site-packages (from transformers>=4.31.0->trl==0.8.6) (25.0)\n",
      "Requirement already satisfied: pyyaml>=5.1 in /home/ec2-user/anaconda3/envs/pytorch_p310/lib/python3.10/site-packages (from transformers>=4.31.0->trl==0.8.6) (6.0.2)\n",
      "Requirement already satisfied: regex!=2019.12.17 in /home/ec2-user/anaconda3/envs/pytorch_p310/lib/python3.10/site-packages (from transformers>=4.31.0->trl==0.8.6) (2024.11.6)\n",
      "Requirement already satisfied: requests in /home/ec2-user/anaconda3/envs/pytorch_p310/lib/python3.10/site-packages (from transformers>=4.31.0->trl==0.8.6) (2.32.3)\n",
      "Requirement already satisfied: safetensors>=0.4.1 in /home/ec2-user/anaconda3/envs/pytorch_p310/lib/python3.10/site-packages (from transformers>=4.31.0->trl==0.8.6) (0.5.3)\n",
      "Requirement already satisfied: tokenizers<0.21,>=0.20 in /home/ec2-user/anaconda3/envs/pytorch_p310/lib/python3.10/site-packages (from transformers>=4.31.0->trl==0.8.6) (0.20.3)\n",
      "Requirement already satisfied: tqdm>=4.27 in /home/ec2-user/anaconda3/envs/pytorch_p310/lib/python3.10/site-packages (from transformers>=4.31.0->trl==0.8.6) (4.67.1)\n",
      "Requirement already satisfied: docstring-parser>=0.15 in /home/ec2-user/anaconda3/envs/pytorch_p310/lib/python3.10/site-packages (from tyro>=0.5.11->trl==0.8.6) (0.16)\n",
      "Requirement already satisfied: rich>=11.1.0 in /home/ec2-user/anaconda3/envs/pytorch_p310/lib/python3.10/site-packages (from tyro>=0.5.11->trl==0.8.6) (13.9.4)\n",
      "Requirement already satisfied: shtab>=1.5.6 in /home/ec2-user/anaconda3/envs/pytorch_p310/lib/python3.10/site-packages (from tyro>=0.5.11->trl==0.8.6) (1.7.2)\n",
      "Requirement already satisfied: typeguard>=4.0.0 in /home/ec2-user/anaconda3/envs/pytorch_p310/lib/python3.10/site-packages (from tyro>=0.5.11->trl==0.8.6) (4.4.2)\n",
      "Requirement already satisfied: psutil in /home/ec2-user/anaconda3/envs/pytorch_p310/lib/python3.10/site-packages (from accelerate->trl==0.8.6) (6.1.1)\n",
      "Requirement already satisfied: pyarrow>=15.0.0 in /home/ec2-user/anaconda3/envs/pytorch_p310/lib/python3.10/site-packages (from datasets->trl==0.8.6) (19.0.1)\n",
      "Requirement already satisfied: dill<0.3.9,>=0.3.0 in /home/ec2-user/anaconda3/envs/pytorch_p310/lib/python3.10/site-packages (from datasets->trl==0.8.6) (0.3.8)\n",
      "Requirement already satisfied: pandas in /home/ec2-user/anaconda3/envs/pytorch_p310/lib/python3.10/site-packages (from datasets->trl==0.8.6) (2.2.3)\n",
      "Requirement already satisfied: xxhash in /home/ec2-user/anaconda3/envs/pytorch_p310/lib/python3.10/site-packages (from datasets->trl==0.8.6) (3.5.0)\n",
      "Requirement already satisfied: multiprocess<0.70.17 in /home/ec2-user/anaconda3/envs/pytorch_p310/lib/python3.10/site-packages (from datasets->trl==0.8.6) (0.70.16)\n",
      "Requirement already satisfied: aiohttp in /home/ec2-user/anaconda3/envs/pytorch_p310/lib/python3.10/site-packages (from datasets->trl==0.8.6) (3.11.18)\n",
      "Requirement already satisfied: aiohappyeyeballs>=2.3.0 in /home/ec2-user/anaconda3/envs/pytorch_p310/lib/python3.10/site-packages (from aiohttp->datasets->trl==0.8.6) (2.6.1)\n",
      "Requirement already satisfied: aiosignal>=1.1.2 in /home/ec2-user/anaconda3/envs/pytorch_p310/lib/python3.10/site-packages (from aiohttp->datasets->trl==0.8.6) (1.3.2)\n",
      "Requirement already satisfied: async-timeout<6.0,>=4.0 in /home/ec2-user/anaconda3/envs/pytorch_p310/lib/python3.10/site-packages (from aiohttp->datasets->trl==0.8.6) (5.0.1)\n",
      "Requirement already satisfied: attrs>=17.3.0 in /home/ec2-user/anaconda3/envs/pytorch_p310/lib/python3.10/site-packages (from aiohttp->datasets->trl==0.8.6) (23.2.0)\n",
      "Requirement already satisfied: frozenlist>=1.1.1 in /home/ec2-user/anaconda3/envs/pytorch_p310/lib/python3.10/site-packages (from aiohttp->datasets->trl==0.8.6) (1.6.0)\n",
      "Requirement already satisfied: multidict<7.0,>=4.5 in /home/ec2-user/anaconda3/envs/pytorch_p310/lib/python3.10/site-packages (from aiohttp->datasets->trl==0.8.6) (6.4.3)\n",
      "Requirement already satisfied: propcache>=0.2.0 in /home/ec2-user/anaconda3/envs/pytorch_p310/lib/python3.10/site-packages (from aiohttp->datasets->trl==0.8.6) (0.3.1)\n",
      "Requirement already satisfied: yarl<2.0,>=1.17.0 in /home/ec2-user/anaconda3/envs/pytorch_p310/lib/python3.10/site-packages (from aiohttp->datasets->trl==0.8.6) (1.20.0)\n",
      "Requirement already satisfied: charset_normalizer<4,>=2 in /home/ec2-user/anaconda3/envs/pytorch_p310/lib/python3.10/site-packages (from requests->transformers>=4.31.0->trl==0.8.6) (3.4.1)\n",
      "Requirement already satisfied: idna<4,>=2.5 in /home/ec2-user/anaconda3/envs/pytorch_p310/lib/python3.10/site-packages (from requests->transformers>=4.31.0->trl==0.8.6) (3.10)\n",
      "Requirement already satisfied: urllib3<3,>=1.21.1 in /home/ec2-user/anaconda3/envs/pytorch_p310/lib/python3.10/site-packages (from requests->transformers>=4.31.0->trl==0.8.6) (2.4.0)\n",
      "Requirement already satisfied: certifi>=2017.4.17 in /home/ec2-user/anaconda3/envs/pytorch_p310/lib/python3.10/site-packages (from requests->transformers>=4.31.0->trl==0.8.6) (2025.1.31)\n",
      "Requirement already satisfied: markdown-it-py>=2.2.0 in /home/ec2-user/anaconda3/envs/pytorch_p310/lib/python3.10/site-packages (from rich>=11.1.0->tyro>=0.5.11->trl==0.8.6) (3.0.0)\n",
      "Requirement already satisfied: pygments<3.0.0,>=2.13.0 in /home/ec2-user/anaconda3/envs/pytorch_p310/lib/python3.10/site-packages (from rich>=11.1.0->tyro>=0.5.11->trl==0.8.6) (2.19.1)\n",
      "Requirement already satisfied: MarkupSafe>=2.0 in /home/ec2-user/anaconda3/envs/pytorch_p310/lib/python3.10/site-packages (from jinja2->torch>=1.4.0->trl==0.8.6) (3.0.2)\n",
      "Requirement already satisfied: python-dateutil>=2.8.2 in /home/ec2-user/anaconda3/envs/pytorch_p310/lib/python3.10/site-packages (from pandas->datasets->trl==0.8.6) (2.9.0.post0)\n",
      "Requirement already satisfied: pytz>=2020.1 in /home/ec2-user/anaconda3/envs/pytorch_p310/lib/python3.10/site-packages (from pandas->datasets->trl==0.8.6) (2025.2)\n",
      "Requirement already satisfied: tzdata>=2022.7 in /home/ec2-user/anaconda3/envs/pytorch_p310/lib/python3.10/site-packages (from pandas->datasets->trl==0.8.6) (2025.2)\n",
      "Requirement already satisfied: mpmath<1.4,>=1.1.0 in /home/ec2-user/anaconda3/envs/pytorch_p310/lib/python3.10/site-packages (from sympy->torch>=1.4.0->trl==0.8.6) (1.3.0)\n",
      "Requirement already satisfied: mdurl~=0.1 in /home/ec2-user/anaconda3/envs/pytorch_p310/lib/python3.10/site-packages (from markdown-it-py>=2.2.0->rich>=11.1.0->tyro>=0.5.11->trl==0.8.6) (0.1.2)\n",
      "Requirement already satisfied: six>=1.5 in /home/ec2-user/anaconda3/envs/pytorch_p310/lib/python3.10/site-packages (from python-dateutil>=2.8.2->pandas->datasets->trl==0.8.6) (1.17.0)\n",
      "Using cached trl-0.8.6-py3-none-any.whl (245 kB)\n",
      "Installing collected packages: trl\n",
      "  Attempting uninstall: trl\n",
      "    Found existing installation: trl 0.10.1\n",
      "    Uninstalling trl-0.10.1:\n",
      "      Successfully uninstalled trl-0.10.1\n",
      "Successfully installed trl-0.8.6\n"
     ]
    }
   ],
   "source": [
    "!conda create -n pytorch_25 -y \n",
    "!conda activate pytorch_25 \n",
    "!pip install torch==2.5.1 torchvision==0.20.1 torchaudio==2.5.1 --index-url https://download.pytorch.org/whl/cu121 \n",
    "!conda install conda-forge::gcc -y \n",
    "!pip install ninja pip install vllm\n",
    "\n",
    "!pip install -U packaging\n",
    "!pip install -U setuptools\n",
    "\n",
    "!pip install transformers==4.45.1\n",
    "# !pip install git+https://github.com/huggingface/transformers.git\n",
    "!pip install tensorboardX\n",
    "!pip install datasets\n",
    "!pip install einops\n",
    "!pip install transformers_stream_generator\n",
    "!pip install deepspeed==0.15.4\n",
    "!pip install -U peft\n",
    "!pip install tiktoken\n",
    "!pip install bitsandbytes\n",
    "!pip install fairscale\n",
    "!pip install sentencepiece\n",
    "!pip install galore-torch\n",
    "!pip install -U accelerate\n",
    "\n",
    "!pip install -U ultralytics\n",
    "!pip install -U trl==0.8.6\n",
    "#!pip install -U trl==0.10.1\n",
    "!pip install -U huggingface_hub\n",
    "!pip install flash_attn==2.5.8\n"
   ]
  },
  {
   "cell_type": "code",
   "execution_count": 2,
   "id": "91cb1b02",
   "metadata": {},
   "outputs": [],
   "source": [
    "import os\n",
    "os.environ['TRANSFORMERS_CACHE'] = \"cache\"\n",
    "os.environ['HF_DATASETS_CACHE'] = \"cache\"\n",
    "os.environ['HF_HOME'] = 'cache'"
   ]
  },
  {
   "cell_type": "code",
   "execution_count": null,
   "id": "48c0d6d6-288f-4bd9-b800-4e893a79eb60",
   "metadata": {
    "tags": []
   },
   "outputs": [
    {
     "name": "stdout",
     "output_type": "stream",
     "text": [
      "The token has not been saved to the git credentials helper. Pass `add_to_git_credential=True` in this function directly or `--add-to-git-credential` if using via `huggingface-cli` if you want to set the git credential as well.\n",
      "Token is valid (permission: write).\n",
      "The token `Zhichao_upload` has been saved to cache/stored_tokens\n",
      "Your token has been saved to cache/token\n",
      "Login successful.\n",
      "The current active token is: `Zhichao_upload`\n"
     ]
    }
   ],
   "source": [
    "!huggingface-cli login --token ***************************"
   ]
  },
  {
   "cell_type": "code",
   "execution_count": 4,
   "id": "2e936e1e-c164-467d-94ee-769b7c2c974a",
   "metadata": {
    "tags": []
   },
   "outputs": [],
   "source": [
    "import sys\n",
    "# Define the path of the text file where you want to save the print output\n",
    "log_file_path = './output.txt'\n",
    "# Redirect stdout to the log file\n",
    "sys.stdout = open(log_file_path, 'w')"
   ]
  },
  {
   "cell_type": "code",
   "execution_count": null,
   "id": "bfb0e3f1-a765-4b7d-a9db-836630ddb610",
   "metadata": {
    "tags": []
   },
   "outputs": [],
   "source": [
    "#UNA binary MSE\n",
    "print(\"UNA binary MSE\")"
   ]
  },
  {
   "cell_type": "code",
   "execution_count": null,
   "id": "962c6544-bb11-436b-8e94-ad153dbffc52",
   "metadata": {
    "tags": []
   },
   "outputs": [],
   "source": [
    "!ACCELERATE_LOG_LEVEL=info accelerate launch --config_file=multi_gpu.yaml UNA_trainer_binary_MSE_0.01.py"
   ]
  },
  {
   "cell_type": "code",
   "execution_count": null,
   "id": "67d745bf-f799-46b5-bffd-7ac7bc839b20",
   "metadata": {
    "tags": []
   },
   "outputs": [],
   "source": [
    "#UNA binary BCE\n",
    "print(\"UNA binary BCE\")"
   ]
  },
  {
   "cell_type": "code",
   "execution_count": null,
   "id": "ea6cff85-7a33-4740-ac40-ebd8d928a8f3",
   "metadata": {
    "tags": []
   },
   "outputs": [],
   "source": [
    "!ACCELERATE_LOG_LEVEL=info accelerate launch --config_file=multi_gpu.yaml UNA_trainer_binary_BCE_0.01.py"
   ]
  },
  {
   "cell_type": "code",
   "execution_count": null,
   "id": "38dbfe2c-9847-4e09-86e4-efaf6b402f15",
   "metadata": {
    "tags": []
   },
   "outputs": [],
   "source": [
    "#UNA score\n",
    "print(\"UNA score MSE\")"
   ]
  },
  {
   "cell_type": "code",
   "execution_count": null,
   "id": "31388ac7-a934-4d98-954f-81bb51149001",
   "metadata": {
    "tags": []
   },
   "outputs": [],
   "source": [
    "!ACCELERATE_LOG_LEVEL=info accelerate launch --config_file=multi_gpu.yaml UNA_trainer_score_MSE_3e-5_0.03.py"
   ]
  },
  {
   "cell_type": "code",
   "execution_count": null,
   "id": "1fce3ee0-8596-4f9e-a8dc-b066d0c252fd",
   "metadata": {},
   "outputs": [],
   "source": [
    "#DPO score\n",
    "print(\"DPO\")"
   ]
  },
  {
   "cell_type": "code",
   "execution_count": null,
   "id": "614cc0ce",
   "metadata": {},
   "outputs": [],
   "source": [
    "!ACCELERATE_LOG_LEVEL=info accelerate launch --config_file=multi_gpu.yaml dpo_trainer_0.03.py"
   ]
  },
  {
   "cell_type": "code",
   "execution_count": null,
   "id": "1574e1de",
   "metadata": {},
   "outputs": [],
   "source": []
  },
  {
   "cell_type": "code",
   "execution_count": 13,
   "id": "4a2ee42d",
   "metadata": {},
   "outputs": [],
   "source": [
    "!pip install trl==0.10.1"
   ]
  },
  {
   "cell_type": "code",
   "execution_count": 14,
   "id": "3053519c",
   "metadata": {},
   "outputs": [],
   "source": [
    "#KTO score\n",
    "print(\"KTO\")"
   ]
  },
  {
   "cell_type": "code",
   "execution_count": null,
   "id": "cd9e00ca",
   "metadata": {},
   "outputs": [],
   "source": [
    "!ACCELERATE_LOG_LEVEL=info accelerate launch --config_file=multi_gpu.yaml kto_trainer_0.03.py"
   ]
  }
 ],
 "metadata": {
  "kernelspec": {
   "display_name": "conda_pytorch_p310",
   "language": "python",
   "name": "conda_pytorch_p310"
  },
  "language_info": {
   "codemirror_mode": {
    "name": "ipython",
    "version": 3
   },
   "file_extension": ".py",
   "mimetype": "text/x-python",
   "name": "python",
   "nbconvert_exporter": "python",
   "pygments_lexer": "ipython3",
   "version": "3.10.14"
  }
 },
 "nbformat": 4,
 "nbformat_minor": 5
}
